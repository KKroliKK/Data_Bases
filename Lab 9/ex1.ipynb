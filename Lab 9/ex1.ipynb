{
 "cells": [
  {
   "cell_type": "code",
   "execution_count": 1,
   "id": "838ddab3",
   "metadata": {},
   "outputs": [],
   "source": [
    "import psycopg2\n",
    "from config import config"
   ]
  },
  {
   "cell_type": "code",
   "execution_count": 2,
   "id": "8e6bc789",
   "metadata": {},
   "outputs": [],
   "source": [
    "con = psycopg2.connect(database=\"dvdrental\", user=\"postgres\",\n",
    "                       password=\"26470759\", host=\"127.0.0.1\", port=\"5432\")"
   ]
  },
  {
   "cell_type": "code",
   "execution_count": null,
   "id": "0982b1e8",
   "metadata": {},
   "outputs": [],
   "source": [
    "conn = psycopg2.connect(dsn)"
   ]
  },
  {
   "cell_type": "code",
   "execution_count": 4,
   "id": "941e9de3",
   "metadata": {},
   "outputs": [],
   "source": [
    "cur = con.cursor()"
   ]
  },
  {
   "cell_type": "code",
   "execution_count": 6,
   "id": "2ce2da17",
   "metadata": {},
   "outputs": [
    {
     "name": "stdout",
     "output_type": "stream",
     "text": [
      "None\n"
     ]
    }
   ],
   "source": [
    "print(cur.execute('select * from actor limit 10'))"
   ]
  },
  {
   "cell_type": "code",
   "execution_count": null,
   "id": "1e952ca5",
   "metadata": {},
   "outputs": [],
   "source": [
    "cur.callproc('function_name', (value1,value2))"
   ]
  },
  {
   "cell_type": "code",
   "execution_count": null,
   "id": "254ad353",
   "metadata": {},
   "outputs": [],
   "source": [
    "cur.execute(\"SELECT * FROM function_name( %s,%s); \",(value1,value2))"
   ]
  },
  {
   "cell_type": "code",
   "execution_count": null,
   "id": "84daa8c8",
   "metadata": {},
   "outputs": [],
   "source": [
    "cur.close()\n",
    "conn.close()"
   ]
  },
  {
   "cell_type": "code",
   "execution_count": null,
   "id": "797fc552",
   "metadata": {},
   "outputs": [],
   "source": [
    "def get_parts(vendor_id):\n",
    "    \"\"\" get parts provided by a vendor specified by the vendor_id \"\"\"\n",
    "    conn = None\n",
    "    try:\n",
    "        # read database configuration\n",
    "        params = config()\n",
    "        # connect to the PostgreSQL database\n",
    "        conn = psycopg2.connect(**params)\n",
    "        # create a cursor object for execution\n",
    "        cur = conn.cursor()\n",
    "        # another way to call a function\n",
    "        # cur.execute(\"SELECT * FROM get_parts_by_vendor( %s); \",(vendor_id,))\n",
    "        cur.callproc('get_parts_by_vendor', (vendor_id,))\n",
    "        # process the result set\n",
    "        row = cur.fetchone()\n",
    "        while row is not None:\n",
    "            print(row)\n",
    "            row = cur.fetchone()\n",
    "        # close the communication with the PostgreSQL database server\n",
    "        cur.close()\n",
    "    except (Exception, psycopg2.DatabaseError) as error:\n",
    "        print(error)\n",
    "    finally:\n",
    "        if conn is not None:\n",
    "            conn.close()"
   ]
  },
  {
   "cell_type": "code",
   "execution_count": null,
   "id": "f8ccd265",
   "metadata": {},
   "outputs": [],
   "source": [
    "if __name__ == '__main__':\n",
    "    get_parts(1)"
   ]
  }
 ],
 "metadata": {
  "kernelspec": {
   "display_name": "Python 3 (ipykernel)",
   "language": "python",
   "name": "python3"
  },
  "language_info": {
   "codemirror_mode": {
    "name": "ipython",
    "version": 3
   },
   "file_extension": ".py",
   "mimetype": "text/x-python",
   "name": "python",
   "nbconvert_exporter": "python",
   "pygments_lexer": "ipython3",
   "version": "3.8.8"
  }
 },
 "nbformat": 4,
 "nbformat_minor": 5
}
